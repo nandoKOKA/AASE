{
 "cells": [
  {
   "cell_type": "code",
   "execution_count": null,
   "metadata": {},
   "outputs": [],
   "source": [
    "#novo "
   ]
  }
 ],
 "metadata": {
  "kernelspec": {
   "display_name": "Python 3.10.8 64-bit",
   "language": "python",
   "name": "python3"
  },
  "language_info": {
   "name": "python",
   "version": "3.10.8"
  },
  "orig_nbformat": 4,
  "vscode": {
   "interpreter": {
    "hash": "f3fe71c140a7c09c0858a55a6c7b2c3710f28c7bb035d6ac217afe88019ab6f7"
   }
  }
 },
 "nbformat": 4,
 "nbformat_minor": 2
}
